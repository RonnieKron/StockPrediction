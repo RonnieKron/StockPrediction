{
 "cells": [
  {
   "cell_type": "markdown",
   "metadata": {},
   "source": [
    "First, the data is read and examined briefly."
   ]
  },
  {
   "cell_type": "code",
   "execution_count": 147,
   "metadata": {},
   "outputs": [
    {
     "data": {
      "text/html": [
       "<div>\n",
       "<style scoped>\n",
       "    .dataframe tbody tr th:only-of-type {\n",
       "        vertical-align: middle;\n",
       "    }\n",
       "\n",
       "    .dataframe tbody tr th {\n",
       "        vertical-align: top;\n",
       "    }\n",
       "\n",
       "    .dataframe thead th {\n",
       "        text-align: right;\n",
       "    }\n",
       "</style>\n",
       "<table border=\"1\" class=\"dataframe\">\n",
       "  <thead>\n",
       "    <tr style=\"text-align: right;\">\n",
       "      <th></th>\n",
       "      <th>Date</th>\n",
       "      <th>Bid</th>\n",
       "      <th>Ask</th>\n",
       "      <th>Opening price</th>\n",
       "      <th>High price</th>\n",
       "      <th>Low price</th>\n",
       "      <th>Closing price</th>\n",
       "      <th>Average price</th>\n",
       "      <th>Total volume</th>\n",
       "      <th>Turnover</th>\n",
       "      <th>Trades</th>\n",
       "    </tr>\n",
       "  </thead>\n",
       "  <tbody>\n",
       "    <tr>\n",
       "      <th>0</th>\n",
       "      <td>2021-12-23</td>\n",
       "      <td>98.59</td>\n",
       "      <td>98.60</td>\n",
       "      <td>97.98</td>\n",
       "      <td>98.93</td>\n",
       "      <td>97.70</td>\n",
       "      <td>98.60</td>\n",
       "      <td>98.504</td>\n",
       "      <td>5284913.0</td>\n",
       "      <td>5.205748e+08</td>\n",
       "      <td>7194</td>\n",
       "    </tr>\n",
       "    <tr>\n",
       "      <th>1</th>\n",
       "      <td>2021-12-22</td>\n",
       "      <td>96.86</td>\n",
       "      <td>96.90</td>\n",
       "      <td>97.45</td>\n",
       "      <td>97.78</td>\n",
       "      <td>96.45</td>\n",
       "      <td>97.13</td>\n",
       "      <td>97.061</td>\n",
       "      <td>4462309.0</td>\n",
       "      <td>4.330978e+08</td>\n",
       "      <td>6507</td>\n",
       "    </tr>\n",
       "    <tr>\n",
       "      <th>2</th>\n",
       "      <td>2021-12-21</td>\n",
       "      <td>97.27</td>\n",
       "      <td>97.30</td>\n",
       "      <td>96.38</td>\n",
       "      <td>97.46</td>\n",
       "      <td>95.95</td>\n",
       "      <td>97.46</td>\n",
       "      <td>97.053</td>\n",
       "      <td>4926638.0</td>\n",
       "      <td>4.781271e+08</td>\n",
       "      <td>7853</td>\n",
       "    </tr>\n",
       "    <tr>\n",
       "      <th>3</th>\n",
       "      <td>2021-12-20</td>\n",
       "      <td>95.84</td>\n",
       "      <td>95.88</td>\n",
       "      <td>96.00</td>\n",
       "      <td>96.55</td>\n",
       "      <td>95.03</td>\n",
       "      <td>96.03</td>\n",
       "      <td>95.985</td>\n",
       "      <td>5853032.0</td>\n",
       "      <td>5.618454e+08</td>\n",
       "      <td>8824</td>\n",
       "    </tr>\n",
       "    <tr>\n",
       "      <th>4</th>\n",
       "      <td>2021-12-17</td>\n",
       "      <td>96.69</td>\n",
       "      <td>96.72</td>\n",
       "      <td>96.08</td>\n",
       "      <td>96.96</td>\n",
       "      <td>94.85</td>\n",
       "      <td>96.96</td>\n",
       "      <td>96.376</td>\n",
       "      <td>13979148.0</td>\n",
       "      <td>1.347208e+09</td>\n",
       "      <td>14566</td>\n",
       "    </tr>\n",
       "  </tbody>\n",
       "</table>\n",
       "</div>"
      ],
      "text/plain": [
       "         Date    Bid    Ask  Opening price  High price  Low price  \\\n",
       "0  2021-12-23  98.59  98.60          97.98       98.93      97.70   \n",
       "1  2021-12-22  96.86  96.90          97.45       97.78      96.45   \n",
       "2  2021-12-21  97.27  97.30          96.38       97.46      95.95   \n",
       "3  2021-12-20  95.84  95.88          96.00       96.55      95.03   \n",
       "4  2021-12-17  96.69  96.72          96.08       96.96      94.85   \n",
       "\n",
       "   Closing price  Average price  Total volume      Turnover  Trades  \n",
       "0          98.60         98.504     5284913.0  5.205748e+08    7194  \n",
       "1          97.13         97.061     4462309.0  4.330978e+08    6507  \n",
       "2          97.46         97.053     4926638.0  4.781271e+08    7853  \n",
       "3          96.03         95.985     5853032.0  5.618454e+08    8824  \n",
       "4          96.96         96.376    13979148.0  1.347208e+09   14566  "
      ]
     },
     "execution_count": 147,
     "metadata": {},
     "output_type": "execute_result"
    }
   ],
   "source": [
    "import pandas as pd\n",
    "data = pd.read_csv(\"ERIC-B-2012-01-01-2021-12-24.csv\", sep=\";\", decimal = ',')\n",
    "data.head()"
   ]
  },
  {
   "cell_type": "code",
   "execution_count": 148,
   "metadata": {},
   "outputs": [
    {
     "data": {
      "text/plain": [
       "Date             0\n",
       "Bid              1\n",
       "Ask              1\n",
       "Opening price    2\n",
       "High price       2\n",
       "Low price        2\n",
       "Closing price    0\n",
       "Average price    2\n",
       "Total volume     2\n",
       "Turnover         2\n",
       "Trades           0\n",
       "dtype: int64"
      ]
     },
     "execution_count": 148,
     "metadata": {},
     "output_type": "execute_result"
    }
   ],
   "source": [
    "data.isnull().sum() # number of missing values in each column"
   ]
  },
  {
   "cell_type": "markdown",
   "metadata": {},
   "source": [
    "The data contains only a few missing values and they can easily be filled in with data from the previous day, without affecting the predictions."
   ]
  },
  {
   "cell_type": "code",
   "execution_count": 149,
   "metadata": {},
   "outputs": [],
   "source": [
    "data.fillna(method='ffill', inplace=True)"
   ]
  },
  {
   "cell_type": "markdown",
   "metadata": {},
   "source": [
    "To simplify the calculations, the Closing price is chosen to represent the daily stock price. The data must be scaled in a range from 0 to 1 to improve the possibilities to get the desired result, and the data is split in training and test data to make sure that the evaluation of the model is done on unseen data."
   ]
  },
  {
   "cell_type": "code",
   "execution_count": 150,
   "metadata": {},
   "outputs": [],
   "source": [
    "import numpy as np\n",
    "from sklearn.preprocessing import MinMaxScaler\n",
    "scaler = MinMaxScaler(feature_range = (0, 1))\n",
    "scaled_data = scaler.fit_transform(np.array(data['Closing price']).reshape(-1, 1))\n",
    "size = len(scaled_data)\n",
    "scaled_train = scaled_data[:int(size * 0.75)]\n",
    "scaled_test = scaled_data[int(size * 0.75):]"
   ]
  },
  {
   "cell_type": "markdown",
   "metadata": {},
   "source": [
    "The data is looped through to create a dataset consisting of multiple arrays, where each array consists of a number of days' closing prices, preceding the stock price that will be predicted."
   ]
  },
  {
   "cell_type": "code",
   "execution_count": 151,
   "metadata": {},
   "outputs": [
    {
     "name": "stdout",
     "output_type": "stream",
     "text": [
      "(1779, 100, 1) (1779,)\n",
      "(527, 100, 1) (527,)\n"
     ]
    }
   ],
   "source": [
    "preceding_days = 100\n",
    "def create_dataset(x_data, days = 60):\n",
    "    X_out = []\n",
    "    y_out = []\n",
    "    for i in range(days, len(x_data)):\n",
    "        X_out.append(x_data[i-days:i, 0])\n",
    "        y_out.append(x_data[i, 0])\n",
    "    X_out = np.array(X_out)\n",
    "    y_out = np.array(y_out)\n",
    "    X_out = np.reshape(X_out, (X_out.shape[0], X_out.shape[1], 1))\n",
    "    return X_out, y_out\n",
    "X_train, y_train = create_dataset(scaled_train, preceding_days)\n",
    "X_test, y_test = create_dataset(scaled_test, preceding_days)\n",
    "\n",
    "print(X_train.shape, y_train.shape)\n",
    "print(X_test.shape, y_test.shape)\n"
   ]
  },
  {
   "cell_type": "markdown",
   "metadata": {},
   "source": [
    "The Tensorflow Keras sequential LSTM model is created."
   ]
  },
  {
   "cell_type": "code",
   "execution_count": 152,
   "metadata": {},
   "outputs": [
    {
     "name": "stdout",
     "output_type": "stream",
     "text": [
      "Model: \"sequential_11\"\n",
      "_________________________________________________________________\n",
      " Layer (type)                Output Shape              Param #   \n",
      "=================================================================\n",
      " lstm_34 (LSTM)              (None, 100, 50)           10400     \n",
      "                                                                 \n",
      " dropout_34 (Dropout)        (None, 100, 50)           0         \n",
      "                                                                 \n",
      " lstm_35 (LSTM)              (None, 100, 50)           20200     \n",
      "                                                                 \n",
      " dropout_35 (Dropout)        (None, 100, 50)           0         \n",
      "                                                                 \n",
      " lstm_36 (LSTM)              (None, 50)                20200     \n",
      "                                                                 \n",
      " dropout_36 (Dropout)        (None, 50)                0         \n",
      "                                                                 \n",
      " dense_11 (Dense)            (None, 1)                 51        \n",
      "                                                                 \n",
      "=================================================================\n",
      "Total params: 50,851\n",
      "Trainable params: 50,851\n",
      "Non-trainable params: 0\n",
      "_________________________________________________________________\n"
     ]
    }
   ],
   "source": [
    "import tensorflow as tf\n",
    "nodes_per_layer = 50\n",
    "model = tf.keras.models.Sequential([\n",
    "    tf.keras.layers.LSTM(units = nodes_per_layer, return_sequences = True, input_shape = (X_train.shape[1], 1)),\n",
    "    tf.keras.layers.Dropout(0.2),\n",
    "    tf.keras.layers.LSTM(units = nodes_per_layer, return_sequences = True),\n",
    "    tf.keras.layers.Dropout(0.2),\n",
    "    tf.keras.layers.LSTM(units = nodes_per_layer),\n",
    "    tf.keras.layers.Dropout(0.2),\n",
    "    tf.keras.layers.Dense(units = 1)\n",
    "])\n",
    "model.summary()"
   ]
  },
  {
   "cell_type": "markdown",
   "metadata": {},
   "source": [
    "The model is compiled and trained with the training data."
   ]
  },
  {
   "cell_type": "code",
   "execution_count": 153,
   "metadata": {},
   "outputs": [
    {
     "name": "stdout",
     "output_type": "stream",
     "text": [
      "Epoch 1/50\n",
      "28/28 [==============================] - 39s 339ms/step - loss: 0.0371 - mean_squared_error: 0.0371\n",
      "Epoch 2/50\n",
      "28/28 [==============================] - 6s 203ms/step - loss: 0.0080 - mean_squared_error: 0.0080\n",
      "Epoch 3/50\n",
      "28/28 [==============================] - 5s 164ms/step - loss: 0.0057 - mean_squared_error: 0.0057\n",
      "Epoch 4/50\n",
      "28/28 [==============================] - 5s 165ms/step - loss: 0.0052 - mean_squared_error: 0.0052\n",
      "Epoch 5/50\n",
      "28/28 [==============================] - 5s 168ms/step - loss: 0.0048 - mean_squared_error: 0.0048\n",
      "Epoch 6/50\n",
      "28/28 [==============================] - 5s 166ms/step - loss: 0.0049 - mean_squared_error: 0.0049\n",
      "Epoch 7/50\n",
      "28/28 [==============================] - 5s 184ms/step - loss: 0.0047 - mean_squared_error: 0.0047\n",
      "Epoch 8/50\n",
      "28/28 [==============================] - 6s 207ms/step - loss: 0.0045 - mean_squared_error: 0.0045\n",
      "Epoch 9/50\n",
      "28/28 [==============================] - 6s 210ms/step - loss: 0.0048 - mean_squared_error: 0.0048\n",
      "Epoch 10/50\n",
      "28/28 [==============================] - 6s 211ms/step - loss: 0.0047 - mean_squared_error: 0.0047\n",
      "Epoch 11/50\n",
      "28/28 [==============================] - 6s 222ms/step - loss: 0.0041 - mean_squared_error: 0.0041\n",
      "Epoch 12/50\n",
      "28/28 [==============================] - 7s 235ms/step - loss: 0.0041 - mean_squared_error: 0.0041\n",
      "Epoch 13/50\n",
      "28/28 [==============================] - 8s 290ms/step - loss: 0.0041 - mean_squared_error: 0.0041\n",
      "Epoch 14/50\n",
      "28/28 [==============================] - 7s 258ms/step - loss: 0.0039 - mean_squared_error: 0.0039\n",
      "Epoch 15/50\n",
      "28/28 [==============================] - 7s 232ms/step - loss: 0.0038 - mean_squared_error: 0.0038\n",
      "Epoch 16/50\n",
      "28/28 [==============================] - 8s 274ms/step - loss: 0.0037 - mean_squared_error: 0.0037\n",
      "Epoch 17/50\n",
      "28/28 [==============================] - 7s 246ms/step - loss: 0.0037 - mean_squared_error: 0.0037\n",
      "Epoch 18/50\n",
      "28/28 [==============================] - 7s 239ms/step - loss: 0.0035 - mean_squared_error: 0.0035\n",
      "Epoch 19/50\n",
      "28/28 [==============================] - 6s 225ms/step - loss: 0.0035 - mean_squared_error: 0.0035\n",
      "Epoch 20/50\n",
      "28/28 [==============================] - 6s 228ms/step - loss: 0.0033 - mean_squared_error: 0.0033\n",
      "Epoch 21/50\n",
      "28/28 [==============================] - 6s 200ms/step - loss: 0.0035 - mean_squared_error: 0.0035\n",
      "Epoch 22/50\n",
      "28/28 [==============================] - 7s 246ms/step - loss: 0.0035 - mean_squared_error: 0.0035\n",
      "Epoch 23/50\n",
      "28/28 [==============================] - 9s 318ms/step - loss: 0.0036 - mean_squared_error: 0.0036\n",
      "Epoch 24/50\n",
      "28/28 [==============================] - 7s 251ms/step - loss: 0.0034 - mean_squared_error: 0.0034\n",
      "Epoch 25/50\n",
      "28/28 [==============================] - 7s 244ms/step - loss: 0.0033 - mean_squared_error: 0.0033\n",
      "Epoch 26/50\n",
      "28/28 [==============================] - 6s 225ms/step - loss: 0.0031 - mean_squared_error: 0.0031\n",
      "Epoch 27/50\n",
      "28/28 [==============================] - 6s 207ms/step - loss: 0.0031 - mean_squared_error: 0.0031\n",
      "Epoch 28/50\n",
      "28/28 [==============================] - 6s 203ms/step - loss: 0.0032 - mean_squared_error: 0.0032\n",
      "Epoch 29/50\n",
      "28/28 [==============================] - 7s 253ms/step - loss: 0.0031 - mean_squared_error: 0.0031\n",
      "Epoch 30/50\n",
      "28/28 [==============================] - 6s 227ms/step - loss: 0.0029 - mean_squared_error: 0.0029\n",
      "Epoch 31/50\n",
      "28/28 [==============================] - 7s 240ms/step - loss: 0.0028 - mean_squared_error: 0.0028\n",
      "Epoch 32/50\n",
      "28/28 [==============================] - 7s 251ms/step - loss: 0.0027 - mean_squared_error: 0.0027\n",
      "Epoch 33/50\n",
      "28/28 [==============================] - 6s 213ms/step - loss: 0.0029 - mean_squared_error: 0.0029\n",
      "Epoch 34/50\n",
      "28/28 [==============================] - 6s 208ms/step - loss: 0.0026 - mean_squared_error: 0.0026\n",
      "Epoch 35/50\n",
      "28/28 [==============================] - 7s 253ms/step - loss: 0.0028 - mean_squared_error: 0.0028\n",
      "Epoch 36/50\n",
      "28/28 [==============================] - 6s 230ms/step - loss: 0.0030 - mean_squared_error: 0.0030\n",
      "Epoch 37/50\n",
      "28/28 [==============================] - 8s 285ms/step - loss: 0.0026 - mean_squared_error: 0.0026\n",
      "Epoch 38/50\n",
      "28/28 [==============================] - 8s 286ms/step - loss: 0.0024 - mean_squared_error: 0.0024\n",
      "Epoch 39/50\n",
      "28/28 [==============================] - 8s 280ms/step - loss: 0.0028 - mean_squared_error: 0.0028\n",
      "Epoch 40/50\n",
      "28/28 [==============================] - 6s 223ms/step - loss: 0.0025 - mean_squared_error: 0.0025\n",
      "Epoch 41/50\n",
      "28/28 [==============================] - 7s 240ms/step - loss: 0.0028 - mean_squared_error: 0.0028\n",
      "Epoch 42/50\n",
      "28/28 [==============================] - 7s 241ms/step - loss: 0.0026 - mean_squared_error: 0.0026\n",
      "Epoch 43/50\n",
      "28/28 [==============================] - 7s 235ms/step - loss: 0.0024 - mean_squared_error: 0.0024\n",
      "Epoch 44/50\n",
      "28/28 [==============================] - 7s 256ms/step - loss: 0.0022 - mean_squared_error: 0.0022\n",
      "Epoch 45/50\n",
      "28/28 [==============================] - 7s 235ms/step - loss: 0.0022 - mean_squared_error: 0.0022\n",
      "Epoch 46/50\n",
      "28/28 [==============================] - 6s 232ms/step - loss: 0.0023 - mean_squared_error: 0.0023\n",
      "Epoch 47/50\n",
      "28/28 [==============================] - 8s 278ms/step - loss: 0.0022 - mean_squared_error: 0.0022\n",
      "Epoch 48/50\n",
      "28/28 [==============================] - 9s 314ms/step - loss: 0.0023 - mean_squared_error: 0.0023\n",
      "Epoch 49/50\n",
      "28/28 [==============================] - 6s 228ms/step - loss: 0.0026 - mean_squared_error: 0.0026\n",
      "Epoch 50/50\n",
      "28/28 [==============================] - 6s 197ms/step - loss: 0.0023 - mean_squared_error: 0.0023\n"
     ]
    }
   ],
   "source": [
    "epochs = 300\n",
    "batch_size = 64\n",
    "model.compile(optimizer = 'adam', loss = 'mean_squared_error', metrics=[tf.keras.metrics.MeanSquaredError()])\n",
    "history = model.fit(X_train, y_train, epochs = epochs, batch_size = batch_size)"
   ]
  },
  {
   "cell_type": "markdown",
   "metadata": {},
   "source": [
    "The Mean Squared Error for each epoch is plotted and the trend line shows that the model performs better the more epochs are run."
   ]
  },
  {
   "cell_type": "code",
   "execution_count": 158,
   "metadata": {},
   "outputs": [
    {
     "data": {
      "image/png": "[encoded data removed]",
      "text/plain": [
       "<Figure size 432x288 with 1 Axes>"
      ]
     },
     "metadata": {
      "needs_background": "light"
     },
     "output_type": "display_data"
    }
   ],
   "source": [
    "import matplotlib.pyplot as plt\n",
    "metric = \"mean_squared_error\"\n",
    "plt.figure()\n",
    "plt.plot(history.history[metric][1:]) # Skip the first value to make the plot easier to read. \n",
    "plt.plot(pd.Series(history.history[metric][1:]).rolling(epochs//10).mean()) # Trend line\n",
    "plt.title(\"Preceding days={}, Nodes per layer={}, Epochs={}, Batch size={}\".format(preceding_days, nodes_per_layer, epochs, batch_size))  \n",
    "plt.ylabel(metric, fontsize=\"large\")\n",
    "plt.xlabel(\"epoch\", fontsize=\"large\")\n",
    "plt.legend([\"Training\", \"Trend line\"], loc=\"best\")\n",
    "plt.show()\n",
    "plt.close()"
   ]
  },
  {
   "cell_type": "markdown",
   "metadata": {},
   "source": [
    "The model is used to predict closing prices from the test data and the predictions are scaled back to closing prices."
   ]
  },
  {
   "cell_type": "code",
   "execution_count": 155,
   "metadata": {},
   "outputs": [
    {
     "data": {
      "text/plain": [
       "array([[80.32535 ],\n",
       "       [80.175705],\n",
       "       [80.08563 ],\n",
       "       [79.84415 ],\n",
       "       [79.500404]], dtype=float32)"
      ]
     },
     "execution_count": 155,
     "metadata": {},
     "output_type": "execute_result"
    }
   ],
   "source": [
    "y_pred = model.predict(X_test)\n",
    "y_pred_unscaled = scaler.inverse_transform(y_pred)\n",
    "y_pred_unscaled[:5]"
   ]
  },
  {
   "cell_type": "markdown",
   "metadata": {},
   "source": [
    "The predictions are plotted together with the actual closing prices for the same period."
   ]
  },
  {
   "cell_type": "code",
   "execution_count": 156,
   "metadata": {},
   "outputs": [
    {
     "data": {
      "image/png": "[encoded data removed]",
      "text/plain": [
       "<Figure size 720x432 with 1 Axes>"
      ]
     },
     "metadata": {
      "needs_background": "light"
     },
     "output_type": "display_data"
    }
   ],
   "source": [
    "y_test_unscaled = scaler.inverse_transform(y_test.reshape(-1, 1))\n",
    "\n",
    "plt.figure(figsize=(10,6))  \n",
    "plt.plot(y_test_unscaled, color='blue', label='Actual Stock Price')  \n",
    "plt.plot(y_pred_unscaled , color='red', label='Predicted Stock Price')  \n",
    "plt.title(\"Preceding days={}, Nodes per layer={}, Epochs={}, Batch size={}\".format(preceding_days, nodes_per_layer, epochs, batch_size))  \n",
    "plt.xlabel('Day')  \n",
    "plt.ylabel('Stock Price')  \n",
    "plt.legend()  \n",
    "plt.show()  "
   ]
  },
  {
   "cell_type": "markdown",
   "metadata": {},
   "source": [
    "The overall Mean Squared Error is calculated as a metric for the model performance."
   ]
  },
  {
   "cell_type": "code",
   "execution_count": 157,
   "metadata": {},
   "outputs": [
    {
     "name": "stdout",
     "output_type": "stream",
     "text": [
      "Preceding days=100, Nodes per layer=50, Epochs=50, Batch size=64\n",
      "The mean squared error is 2.971235752105713\n"
     ]
    }
   ],
   "source": [
    "metrics = tf.keras.metrics.MeanSquaredError()\n",
    "metrics.update_state(y_pred_unscaled, y_test_unscaled)\n",
    "print(\"Preceding days={}, Nodes per layer={}, Epochs={}, Batch size={}\".format(preceding_days, nodes_per_layer, epochs, batch_size))\n",
    "print(\"The mean squared error is {}\".format(metrics.result().numpy()))\n"
   ]
  }
 ],
 "metadata": {
  "interpreter": {
   "hash": "4959ea3d2b9610f8df5e9d92b6ff435b64d2adb0bcebc82513295278eeff7173"
  },
  "kernelspec": {
   "display_name": "Python 3.9.4 64-bit",
   "language": "python",
   "name": "python3"
  },
  "language_info": {
   "codemirror_mode": {
    "name": "ipython",
    "version": 3
   },
   "file_extension": ".py",
   "mimetype": "text/x-python",
   "name": "python",
   "nbconvert_exporter": "python",
   "pygments_lexer": "ipython3",
   "version": "3.9.4"
  },
  "orig_nbformat": 4
 },
 "nbformat": 4,
 "nbformat_minor": 2
}
